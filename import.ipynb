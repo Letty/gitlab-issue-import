{
 "cells": [
  {
   "cell_type": "code",
   "execution_count": null,
   "id": "88ad7bc9",
   "metadata": {},
   "outputs": [],
   "source": [
    "import pandas as pd\n",
    "from github import Github, GithubObject\n",
    "import time"
   ]
  },
  {
   "cell_type": "code",
   "execution_count": null,
   "id": "f3378e16",
   "metadata": {},
   "outputs": [],
   "source": [
    "g = Github('YOUR_TOKEN')"
   ]
  },
  {
   "cell_type": "code",
   "execution_count": null,
   "id": "52cc4efa",
   "metadata": {
    "scrolled": true
   },
   "outputs": [],
   "source": [
    "issues = pd.read_csv('data/issues.csv')\n",
    "issues = issues.fillna('')\n",
    "issues.reset_index()"
   ]
  },
  {
   "cell_type": "code",
   "execution_count": null,
   "id": "dc3a4fbb",
   "metadata": {},
   "outputs": [],
   "source": [
    "milestones = pd.read_csv('data/milestones.csv')\n",
    "milestones = milestones.fillna('')\n",
    "milestones"
   ]
  },
  {
   "cell_type": "code",
   "execution_count": null,
   "id": "b752ed82",
   "metadata": {},
   "outputs": [],
   "source": [
    "labels = pd.read_csv('data/labels.csv')\n",
    "labels = labels.fillna('')\n",
    "labels"
   ]
  },
  {
   "cell_type": "code",
   "execution_count": null,
   "id": "3fd53979",
   "metadata": {},
   "outputs": [],
   "source": [
    "githubUsers = {\n",
    "    'LettyLettebowskie': 'Letty',\n",
    "}"
   ]
  },
  {
   "cell_type": "code",
   "execution_count": null,
   "id": "37409c76",
   "metadata": {},
   "outputs": [],
   "source": [
    "repo = g.get_repo('letty/gitlab-issue-import')\n",
    "print(repo)"
   ]
  },
  {
   "cell_type": "code",
   "execution_count": null,
   "id": "24bfb672",
   "metadata": {},
   "outputs": [],
   "source": [
    "issueLookup = {}\n",
    "githubLabels = repo.get_labels()\n",
    "\n",
    "for label in githubLabels:\n",
    "    issueLookup[label.name] = label\n",
    "\n",
    "for index, row in labels.iterrows():\n",
    "    if row['name'] not in issueLookup.keys():\n",
    "        color = row['color'].replace('#', '') if 'color' in labels and len(row['color']) > 1 else 'eeeeee'\n",
    "        desc = row['description'] if 'description' in labels else ''\n",
    "        repo.create_label(name=row['name'], color=color, description=desc)"
   ]
  },
  {
   "cell_type": "code",
   "execution_count": null,
   "id": "98873fd9",
   "metadata": {},
   "outputs": [],
   "source": [
    "milestoneLookup = {}\n",
    "githubMilestones = repo.get_milestones(state='all')\n",
    "\n",
    "for milestone in githubMilestones:\n",
    "    milestoneLookup[milestone.title] = milestone\n",
    "\n",
    "for index, row in milestones.iterrows():\n",
    "    if row['title'] not in milestoneLookup.keys():\n",
    "        milestone = repo.create_milestone(title=row['title'], state=row['state'])\n",
    "        milestoneLookup[row['title']] = milestone"
   ]
  },
  {
   "cell_type": "code",
   "execution_count": null,
   "id": "39852ec2",
   "metadata": {},
   "outputs": [],
   "source": [
    "for index, row in issues.iterrows():\n",
    "    labels = []\n",
    "    if len(row['Labels']) > 1:\n",
    "        labels = row['Labels'].split(',')\n",
    "    assigneesGitlab = []\n",
    "    if len(row['Assignee Username']) > 1:\n",
    "        assigneesGitlab = row['Assignee Username'].split(',')\n",
    "    assigneesGitlab = row['Assignee Username'].split(',')\n",
    "    assignees = []\n",
    "    droppedAssignees = ''\n",
    "    for aG in assigneesGitlab:\n",
    "        if aG in githubUsers.keys():\n",
    "            assignees.append(githubUsers[aG])\n",
    "        else:\n",
    "            droppedAssignees += '{0} ,'.format(aG)\n",
    "    \n",
    "    closed = True if row['Closed At (UTC)'] else False\n",
    "    body = ''\n",
    "    if droppedAssignees != '':\n",
    "        body += 'Assignees from Gitlab without Github Accounts: {0} \\n'.format(droppedAssignees)\n",
    "    body += row['Description']\n",
    "    issue = repo.create_issue(\n",
    "        title=row['Title'],\n",
    "        body=body,\n",
    "        milestone=milestoneLookup[row['Milestone']] if row['Milestone'] in milestoneLookup.keys() else GithubObject.NotSet,\n",
    "        labels=labels,\n",
    "        assignees=assignees,\n",
    "    )\n",
    "    if closed:\n",
    "        issue.edit(state='closed')\n",
    "    print('id:{0} closed: {1} - title: {2}'.format(index, closed, row['Title']))\n",
    "    time.sleep(15)"
   ]
  }
 ],
 "metadata": {
  "kernelspec": {
   "display_name": "Python 3 (ipykernel)",
   "language": "python",
   "name": "python3"
  },
  "language_info": {
   "codemirror_mode": {
    "name": "ipython",
    "version": 3
   },
   "file_extension": ".py",
   "mimetype": "text/x-python",
   "name": "python",
   "nbconvert_exporter": "python",
   "pygments_lexer": "ipython3",
   "version": "3.11.2"
  }
 },
 "nbformat": 4,
 "nbformat_minor": 5
}
